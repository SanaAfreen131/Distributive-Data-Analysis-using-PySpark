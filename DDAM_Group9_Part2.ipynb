{
  "cells": [
    {
      "cell_type": "code",
      "execution_count": 1,
      "metadata": {
        "colab": {
          "base_uri": "https://localhost:8080/"
        },
        "id": "wrfVdjKqLtV3",
        "outputId": "fdec98e3-f59e-437c-e548-45049844d41f"
      },
      "outputs": [
        {
          "output_type": "stream",
          "name": "stdout",
          "text": [
            "Drive already mounted at /content/drive; to attempt to forcibly remount, call drive.mount(\"/content/drive\", force_remount=True).\n"
          ]
        }
      ],
      "source": [
        "from google.colab import drive\n",
        "drive.mount('/content/drive')"
      ]
    },
    {
      "cell_type": "code",
      "execution_count": 2,
      "metadata": {
        "colab": {
          "base_uri": "https://localhost:8080/"
        },
        "id": "Te2Y3uv1FWET",
        "outputId": "53686593-ade8-4d1c-b970-3c06d9ac485f"
      },
      "outputs": [
        {
          "output_type": "stream",
          "name": "stdout",
          "text": [
            "\r0% [Working]\r            \rGet:1 https://cloud.r-project.org/bin/linux/ubuntu jammy-cran40/ InRelease [3,626 B]\n",
            "\r0% [Connecting to archive.ubuntu.com (185.125.190.82)] [Waiting for headers] [1 InRelease 3,626 B/3,\r0% [Connecting to archive.ubuntu.com (185.125.190.82)] [Waiting for headers] [Connecting to r2u.stat\r                                                                                                    \rHit:2 https://developer.download.nvidia.com/compute/cuda/repos/ubuntu2204/x86_64  InRelease\n",
            "Get:3 http://security.ubuntu.com/ubuntu jammy-security InRelease [129 kB]\n",
            "Hit:4 http://archive.ubuntu.com/ubuntu jammy InRelease\n",
            "Hit:5 https://r2u.stat.illinois.edu/ubuntu jammy InRelease\n",
            "Get:6 http://archive.ubuntu.com/ubuntu jammy-updates InRelease [128 kB]\n",
            "Hit:7 https://ppa.launchpadcontent.net/deadsnakes/ppa/ubuntu jammy InRelease\n",
            "Hit:8 https://ppa.launchpadcontent.net/graphics-drivers/ppa/ubuntu jammy InRelease\n",
            "Hit:9 https://ppa.launchpadcontent.net/ubuntugis/ppa/ubuntu jammy InRelease\n",
            "Hit:10 http://archive.ubuntu.com/ubuntu jammy-backports InRelease\n",
            "Fetched 261 kB in 2s (161 kB/s)\n",
            "Reading package lists... Done\n",
            "W: Skipping acquire of configured file 'main/source/Sources' as repository 'https://r2u.stat.illinois.edu/ubuntu jammy InRelease' does not seem to provide it (sources.list entry misspelt?)\n",
            "Reading package lists... Done\n",
            "Building dependency tree... Done\n",
            "Reading state information... Done\n",
            "openjdk-11-jdk-headless is already the newest version (11.0.25+9-1ubuntu1~22.04).\n",
            "0 upgraded, 0 newly installed, 0 to remove and 50 not upgraded.\n",
            "Requirement already satisfied: pyspark in /usr/local/lib/python3.10/dist-packages (3.5.3)\n",
            "Requirement already satisfied: py4j==0.10.9.7 in /usr/local/lib/python3.10/dist-packages (from pyspark) (0.10.9.7)\n"
          ]
        }
      ],
      "source": [
        "\n",
        "!apt-get update\n",
        "!apt-get install -y openjdk-11-jdk-headless\n",
        "!pip install pyspark\n",
        "\n",
        "from pyspark.sql import SparkSession\n",
        "from scipy.io import arff\n",
        "import pandas as pd\n",
        "from pyspark.sql.functions import when, col\n"
      ]
    },
    {
      "cell_type": "code",
      "execution_count": 3,
      "metadata": {
        "colab": {
          "base_uri": "https://localhost:8080/"
        },
        "id": "k8rltz4XLyYC",
        "outputId": "bb122603-b3a8-4d8e-a2f5-a406d33a0e6a"
      },
      "outputs": [
        {
          "output_type": "stream",
          "name": "stdout",
          "text": [
            "SparkSession Initialized: <pyspark.sql.session.SparkSession object at 0x7f252ccd6380>\n"
          ]
        }
      ],
      "source": [
        "try:\n",
        "    sc.stop()\n",
        "except:\n",
        "    pass\n",
        "\n",
        "# Initialize SparkSession\n",
        "spark = SparkSession.builder \\\n",
        "    .appName(\"Heart Disease Classification\") \\\n",
        "    .config(\"spark.executor.memory\", \"4g\") \\\n",
        "    .config(\"spark.driver.memory\", \"4g\") \\\n",
        "    .config(\"spark.executor.cores\", \"2\") \\\n",
        "    .config(\"spark.default.parallelism\", \"4\") \\\n",
        "    .config(\"spark.sql.shuffle.partitions\", \"4\") \\\n",
        "    .getOrCreate()\n",
        "\n",
        "print(\"SparkSession Initialized:\", spark)"
      ]
    },
    {
      "cell_type": "markdown",
      "source": [
        "In order to start our machine learning task with pyspark, first we need to read the dataset file, decode and transfer data to spark DataFrame"
      ],
      "metadata": {
        "id": "Pm-nt8i21600"
      }
    },
    {
      "cell_type": "code",
      "execution_count": 4,
      "metadata": {
        "id": "rsKmB1EQLzVq"
      },
      "outputs": [],
      "source": [
        "\n",
        "# Read ARFF file\n",
        "data, meta = arff.loadarff('/content/drive/MyDrive/DDAM/BNG_heart-statlog.arff')\n",
        "\n",
        "# transfer data to pandas DataFrame\n",
        "df = pd.DataFrame(data)\n",
        "\n",
        "df['class'] = df['class'].str.decode('utf-8')\n",
        "\n",
        "# transfer pandas DataFrame ro spark DataFrame\n",
        "\n",
        "spark_df = spark.createDataFrame(df)"
      ]
    },
    {
      "cell_type": "markdown",
      "source": [
        "#1.Data Understanding"
      ],
      "metadata": {
        "id": "4MiI0Tgs2niy"
      }
    },
    {
      "cell_type": "markdown",
      "source": [
        "In this heart disease dataset, numerous medical indicators are included, and the detailed explanations for these labeled variables have already been covered in the report. As such, we will not elaborate on them here."
      ],
      "metadata": {
        "id": "KCyfb6Ed2q_7"
      }
    },
    {
      "cell_type": "markdown",
      "source": [
        " Additionally, since this is a synthetic dataset, most of the data has already been cleaned, including standardization and feature scaling. Therefore, the only remaining preprocessing step involves handling the target variable, which is encoded as a string (present and absent)."
      ],
      "metadata": {
        "id": "ZoLv45sb4C7t"
      }
    },
    {
      "cell_type": "code",
      "execution_count": null,
      "metadata": {
        "colab": {
          "base_uri": "https://localhost:8080/"
        },
        "id": "pBekT3olFzQo",
        "outputId": "38998bc1-6755-4c96-f642-812ffba72392"
      },
      "outputs": [
        {
          "output_type": "stream",
          "name": "stdout",
          "text": [
            "+---------+---+--------+----------------------+-----------------+-------------------+------------------------------------+---------------------------+-----------------------+--------+-----+-----------------------+----+-------+\n",
            "|      age|sex|   chest|resting_blood_pressure|serum_cholestoral|fasting_blood_sugar|resting_electrocardiographic_results|maximum_heart_rate_achieved|exercise_induced_angina| oldpeak|slope|number_of_major_vessels|thal|  class|\n",
            "+---------+---+--------+----------------------+-----------------+-------------------+------------------------------------+---------------------------+-----------------------+--------+-----+-----------------------+----+-------+\n",
            "|53.494725|1.0|1.150395|            117.978412|        242.00937|                0.0|                                 0.0|                 133.361344|                    0.0|3.089391|  2.0|                    1.0| 3.0|present|\n",
            "|37.320375|0.0|1.887693|             118.45567|       218.156844|                1.0|                                 2.0|                 148.458625|                    0.0|     0.0|  3.0|                    0.0| 3.0| absent|\n",
            "|48.520214|1.0|     3.0|            141.819366|       173.382704|                0.0|                                 2.0|                 141.198191|                    0.0|1.071691|  2.0|                    0.0| 6.0| absent|\n",
            "|59.587959|0.0|     4.0|            106.368725|       222.732859|                0.0|                                 2.0|                 141.659888|                    1.0|0.866638|  2.0|                    0.0| 7.0|present|\n",
            "|58.805677|1.0|     3.0|            121.035286|       257.257441|                0.0|                                 0.0|                 145.333117|                    0.0|  1.2126|  3.0|                    0.0| 7.0| absent|\n",
            "|68.956985|1.0|1.376265|             131.62802|       199.435235|                0.0|                                 2.0|                 150.496641|                    0.0| 1.65531|  1.0|                    1.0| 7.0|present|\n",
            "|57.499464|0.0|  2.5611|            131.511388|       224.138569|                0.0|                                 0.0|                 176.408111|                    0.0|     0.0|  2.0|                    0.0| 3.0| absent|\n",
            "|42.372611|0.0|     3.0|             107.34438|       266.412229|                0.0|                                 2.0|                 179.539938|                    0.0|0.704339|  1.0|                    2.0| 3.0| absent|\n",
            "|45.068842|1.0|     3.0|            126.469256|       262.110165|                0.0|                                 2.0|                 187.588937|                    0.0|2.960573|  2.0|                    2.0| 3.0|present|\n",
            "|43.779592|1.0|     4.0|            123.366212|        385.02484|                0.0|                                 2.0|                 124.521006|                    1.0|2.479594|  2.0|                    0.0| 7.0|present|\n",
            "|51.462914|1.0|     4.0|            157.724738|       198.125241|                0.0|                                 0.0|                 135.630633|                    1.0|0.846988|  2.0|                    0.0| 3.0| absent|\n",
            "|54.966228|1.0|     3.0|             154.04259|       221.608249|                0.0|                                 2.0|                 117.267713|                    0.0|1.522555|  2.0|                    1.0| 7.0|present|\n",
            "|51.829753|1.0|     3.0|            160.381404|       275.841702|                0.0|                                 0.0|                 123.657456|                    0.0|1.039853|  2.0|                    0.0| 7.0| absent|\n",
            "|54.114823|1.0|     4.0|            177.597933|       220.985428|                0.0|                                 0.0|                 120.563005|                    1.0|     0.0|  2.0|                    0.0| 6.0|present|\n",
            "|51.901646|1.0| 1.33215|             114.61721|        236.92799|                0.0|                                 2.0|                  189.32679|                    0.0|     0.0|  2.0|                    0.0| 7.0| absent|\n",
            "| 54.89783|0.0|     3.0|            158.973951|       189.439548|                0.0|                                 0.0|                 119.707052|                    0.0|     0.0|  1.0|                    1.0| 7.0|present|\n",
            "|53.373373|0.0|     4.0|            141.666238|       275.922381|                0.0|                                 0.0|                 165.346044|                    0.0|     0.0|  1.0|                    0.0| 3.0| absent|\n",
            "|60.333476|1.0|     4.0|            128.184262|       240.488159|                1.0|                                 2.0|                  105.31602|                    1.0|0.905643|  2.0|                    1.0| 7.0|present|\n",
            "|54.797051|1.0|     4.0|            124.687273|       238.527548|                0.0|                                 2.0|                 112.708825|                    1.0|1.572746|  2.0|                    0.0| 7.0|present|\n",
            "|51.911193|1.0|     3.0|            109.662857|       224.878564|                1.0|                                 0.0|                 174.538801|                    0.0|0.440702|  2.0|                    0.0| 3.0| absent|\n",
            "+---------+---+--------+----------------------+-----------------+-------------------+------------------------------------+---------------------------+-----------------------+--------+-----+-----------------------+----+-------+\n",
            "only showing top 20 rows\n",
            "\n"
          ]
        }
      ],
      "source": [
        "spark_df.show(20)"
      ]
    },
    {
      "cell_type": "code",
      "execution_count": null,
      "metadata": {
        "colab": {
          "base_uri": "https://localhost:8080/"
        },
        "id": "N1CVWxMqMPai",
        "outputId": "18e73aaa-97b9-4c67-9af0-2985be633e34"
      },
      "outputs": [
        {
          "output_type": "stream",
          "name": "stdout",
          "text": [
            "root\n",
            " |-- age: double (nullable = true)\n",
            " |-- sex: double (nullable = true)\n",
            " |-- chest: double (nullable = true)\n",
            " |-- resting_blood_pressure: double (nullable = true)\n",
            " |-- serum_cholestoral: double (nullable = true)\n",
            " |-- fasting_blood_sugar: double (nullable = true)\n",
            " |-- resting_electrocardiographic_results: double (nullable = true)\n",
            " |-- maximum_heart_rate_achieved: double (nullable = true)\n",
            " |-- exercise_induced_angina: double (nullable = true)\n",
            " |-- oldpeak: double (nullable = true)\n",
            " |-- slope: double (nullable = true)\n",
            " |-- number_of_major_vessels: double (nullable = true)\n",
            " |-- thal: double (nullable = true)\n",
            " |-- class: string (nullable = true)\n",
            "\n"
          ]
        }
      ],
      "source": [
        "spark_df.printSchema()"
      ]
    },
    {
      "cell_type": "markdown",
      "source": [
        "There are neither duplicates nor missing values in our dataset."
      ],
      "metadata": {
        "id": "ET_AOPSPBCtn"
      }
    },
    {
      "cell_type": "code",
      "source": [
        "duplicate_rows = spark_df.groupBy(spark_df.columns).count().filter(\"count > 1\")\n",
        "duplicate_rows.show()\n"
      ],
      "metadata": {
        "id": "gMHw1GyPA38M",
        "colab": {
          "base_uri": "https://localhost:8080/"
        },
        "outputId": "9121f2c4-fe71-4def-c8f2-bee6f3dcef46"
      },
      "execution_count": null,
      "outputs": [
        {
          "output_type": "stream",
          "name": "stdout",
          "text": [
            "+---+---+-----+----------------------+-----------------+-------------------+------------------------------------+---------------------------+-----------------------+-------+-----+-----------------------+----+-----+-----+\n",
            "|age|sex|chest|resting_blood_pressure|serum_cholestoral|fasting_blood_sugar|resting_electrocardiographic_results|maximum_heart_rate_achieved|exercise_induced_angina|oldpeak|slope|number_of_major_vessels|thal|class|count|\n",
            "+---+---+-----+----------------------+-----------------+-------------------+------------------------------------+---------------------------+-----------------------+-------+-----+-----------------------+----+-----+-----+\n",
            "+---+---+-----+----------------------+-----------------+-------------------+------------------------------------+---------------------------+-----------------------+-------+-----+-----------------------+----+-----+-----+\n",
            "\n"
          ]
        }
      ]
    },
    {
      "cell_type": "code",
      "source": [
        "missing_rows = spark_df.filter(\n",
        "    \" OR \".join([f\"{c} IS NULL\" for c in spark_df.columns])\n",
        ")\n",
        "print(f\"Number of rows with missing values: {missing_rows.count()}\")\n"
      ],
      "metadata": {
        "colab": {
          "base_uri": "https://localhost:8080/"
        },
        "id": "aUigsBDOmJze",
        "outputId": "09966173-132f-4f09-e9ea-93de77defb3d"
      },
      "execution_count": null,
      "outputs": [
        {
          "output_type": "stream",
          "name": "stdout",
          "text": [
            "Number of rows with missing values: 0\n"
          ]
        }
      ]
    },
    {
      "cell_type": "markdown",
      "metadata": {
        "id": "xYT9A_rizrpQ"
      },
      "source": [
        "#2.Data Preprocessing\n"
      ]
    },
    {
      "cell_type": "markdown",
      "source": [
        "##2.1Feature Engineering"
      ],
      "metadata": {
        "id": "DwcFaaXO8VBb"
      }
    },
    {
      "cell_type": "markdown",
      "source": [
        "In this data preprocessing phase, we first convert our target variable into a binary variable (1 and 0) to facilitate the modeling process."
      ],
      "metadata": {
        "id": "CBzF2scZ4JXr"
      }
    },
    {
      "cell_type": "code",
      "execution_count": 5,
      "metadata": {
        "colab": {
          "base_uri": "https://localhost:8080/"
        },
        "id": "13Xa9mq7G8wB",
        "outputId": "ed03f7d4-b5ef-4ffc-ac70-df57ef4fed1d"
      },
      "outputs": [
        {
          "output_type": "stream",
          "name": "stdout",
          "text": [
            "+---+---+-----+----------------------+-----------------+-------------------+------------------------------------+---------------------------+-----------------------+--------+-----+-----------------------+----+-----+\n",
            "|age|sex|chest|resting_blood_pressure|serum_cholestoral|fasting_blood_sugar|resting_electrocardiographic_results|maximum_heart_rate_achieved|exercise_induced_angina| oldpeak|slope|number_of_major_vessels|thal|class|\n",
            "+---+---+-----+----------------------+-----------------+-------------------+------------------------------------+---------------------------+-----------------------+--------+-----+-----------------------+----+-----+\n",
            "| 53|  1|    1|            117.978412|        242.00937|                  0|                                   0|                 133.361344|                      0|3.089391|    2|                      1|   3|    1|\n",
            "| 37|  0|    2|             118.45567|       218.156844|                  1|                                   2|                 148.458625|                      0|     0.0|    3|                      0|   3|    0|\n",
            "| 49|  1|    3|            141.819366|       173.382704|                  0|                                   2|                 141.198191|                      0|1.071691|    2|                      0|   6|    0|\n",
            "| 60|  0|    4|            106.368725|       222.732859|                  0|                                   2|                 141.659888|                      1|0.866638|    2|                      0|   7|    1|\n",
            "| 59|  1|    3|            121.035286|       257.257441|                  0|                                   0|                 145.333117|                      0|  1.2126|    3|                      0|   7|    0|\n",
            "| 69|  1|    1|             131.62802|       199.435235|                  0|                                   2|                 150.496641|                      0| 1.65531|    1|                      1|   7|    1|\n",
            "| 57|  0|    3|            131.511388|       224.138569|                  0|                                   0|                 176.408111|                      0|     0.0|    2|                      0|   3|    0|\n",
            "| 42|  0|    3|             107.34438|       266.412229|                  0|                                   2|                 179.539938|                      0|0.704339|    1|                      2|   3|    0|\n",
            "| 45|  1|    3|            126.469256|       262.110165|                  0|                                   2|                 187.588937|                      0|2.960573|    2|                      2|   3|    1|\n",
            "| 44|  1|    4|            123.366212|        385.02484|                  0|                                   2|                 124.521006|                      1|2.479594|    2|                      0|   7|    1|\n",
            "| 51|  1|    4|            157.724738|       198.125241|                  0|                                   0|                 135.630633|                      1|0.846988|    2|                      0|   3|    0|\n",
            "| 55|  1|    3|             154.04259|       221.608249|                  0|                                   2|                 117.267713|                      0|1.522555|    2|                      1|   7|    1|\n",
            "| 52|  1|    3|            160.381404|       275.841702|                  0|                                   0|                 123.657456|                      0|1.039853|    2|                      0|   7|    0|\n",
            "| 54|  1|    4|            177.597933|       220.985428|                  0|                                   0|                 120.563005|                      1|     0.0|    2|                      0|   6|    1|\n",
            "| 52|  1|    1|             114.61721|        236.92799|                  0|                                   2|                  189.32679|                      0|     0.0|    2|                      0|   7|    0|\n",
            "| 55|  0|    3|            158.973951|       189.439548|                  0|                                   0|                 119.707052|                      0|     0.0|    1|                      1|   7|    1|\n",
            "| 53|  0|    4|            141.666238|       275.922381|                  0|                                   0|                 165.346044|                      0|     0.0|    1|                      0|   3|    0|\n",
            "| 60|  1|    4|            128.184262|       240.488159|                  1|                                   2|                  105.31602|                      1|0.905643|    2|                      1|   7|    1|\n",
            "| 55|  1|    4|            124.687273|       238.527548|                  0|                                   2|                 112.708825|                      1|1.572746|    2|                      0|   7|    1|\n",
            "| 52|  1|    3|            109.662857|       224.878564|                  1|                                   0|                 174.538801|                      0|0.440702|    2|                      0|   3|    0|\n",
            "+---+---+-----+----------------------+-----------------+-------------------+------------------------------------+---------------------------+-----------------------+--------+-----+-----------------------+----+-----+\n",
            "only showing top 20 rows\n",
            "\n"
          ]
        }
      ],
      "source": [
        "from pyspark.sql.functions import when, col\n",
        "\n",
        "from pyspark.sql.functions import round as pyspark_round, col\n",
        "\n",
        "# Round and convert 'age' and 'chest' columns to integers in PySpark\n",
        "spark_df = spark_df.withColumn(\"age\", pyspark_round(col(\"age\")).cast(\"int\"))\n",
        "spark_df = spark_df.withColumn(\"chest\", pyspark_round(col(\"chest\")).cast(\"int\"))\n",
        "spark_df = spark_df.withColumn(\"sex\", pyspark_round(col(\"sex\")).cast(\"int\"))\n",
        "spark_df = spark_df.withColumn(\"fasting_blood_sugar\", pyspark_round(col(\"fasting_blood_sugar\")).cast(\"int\"))\n",
        "spark_df = spark_df.withColumn(\"resting_electrocardiographic_results\", pyspark_round(col(\"resting_electrocardiographic_results\")).cast(\"int\"))\n",
        "spark_df = spark_df.withColumn(\"exercise_induced_angina\", pyspark_round(col(\"exercise_induced_angina\")).cast(\"int\"))\n",
        "spark_df = spark_df.withColumn(\"slope\", pyspark_round(col(\"slope\")).cast(\"int\"))\n",
        "spark_df = spark_df.withColumn(\"number_of_major_vessels\", pyspark_round(col(\"number_of_major_vessels\")).cast(\"int\"))\n",
        "spark_df = spark_df.withColumn(\"thal\", pyspark_round(col(\"thal\")).cast(\"int\"))\n",
        "\n",
        "\n",
        "\n",
        "# replace present/absent with 1 and 0\n",
        "spark_df = spark_df.withColumn(\n",
        "    \"class\",\n",
        "    when(col(\"class\") == \"present\", 1)\n",
        "    .when(col(\"class\") == \"absent\", 0)\n",
        "    .otherwise(None)\n",
        ")\n",
        "\n",
        "\n",
        "spark_df.show(20)\n"
      ]
    },
    {
      "cell_type": "markdown",
      "source": [
        "Next, we combine multiple features into a single feature vector, transforming the data from a multi-column format into a format that can be accepted by the model."
      ],
      "metadata": {
        "id": "mRA7hiv2-cEj"
      }
    },
    {
      "cell_type": "markdown",
      "source": [
        "##2.2Data Splitting"
      ],
      "metadata": {
        "id": "Xk5NIo4GyMZv"
      }
    },
    {
      "cell_type": "code",
      "execution_count": null,
      "metadata": {
        "id": "ZXMk4sCwhsUS"
      },
      "outputs": [],
      "source": []
    },
    {
      "cell_type": "markdown",
      "source": [
        "After performing feature engineering, we proceed to split the dataset into training and testing sets in preparation for subsequent model training and evaluation."
      ],
      "metadata": {
        "id": "EHdiZj77yQ2j"
      }
    },
    {
      "cell_type": "markdown",
      "source": [
        "#3.Exploratory Data Analysis"
      ],
      "metadata": {
        "id": "DH43xqt4_xZJ"
      }
    },
    {
      "cell_type": "markdown",
      "source": [
        "Please refer to the notebook DDAM_Group9_Part1."
      ],
      "metadata": {
        "id": "YjcLjdTybvpF"
      }
    },
    {
      "cell_type": "markdown",
      "source": [
        "#4.Supervised Learning"
      ],
      "metadata": {
        "id": "Ja1Q--2H5Oor"
      }
    },
    {
      "cell_type": "markdown",
      "source": [
        "In performing the machine learning task on this dataset using supervised learning models, we chose Random Forest and Logistic Regression as our two models."
      ],
      "metadata": {
        "id": "W7AC_SB6cNV4"
      }
    },
    {
      "cell_type": "markdown",
      "source": [
        "##4.1Raindom Forest"
      ],
      "metadata": {
        "id": "Fm8WVvb1hWo_"
      }
    },
    {
      "cell_type": "code",
      "source": [
        "from pyspark.ml.feature import OneHotEncoder, StandardScaler, VectorAssembler\n",
        "from pyspark.ml import Pipeline\n",
        "from pyspark.sql import functions as F\n",
        "import matplotlib.pyplot as plt\n",
        "import seaborn as sns\n",
        "import pandas as pd\n",
        "import numpy as np\n",
        "\n",
        "\n",
        "processed_df = spark_df.withColumnRenamed(\"class\", \"label\")"
      ],
      "metadata": {
        "id": "e8WpS1jCC3vg"
      },
      "execution_count": 6,
      "outputs": []
    },
    {
      "cell_type": "code",
      "source": [
        "\n",
        "train_df, test_df = processed_df.randomSplit([0.8, 0.2], seed=42)"
      ],
      "metadata": {
        "id": "2Xn-imUUTRDK"
      },
      "execution_count": 7,
      "outputs": []
    },
    {
      "cell_type": "markdown",
      "source": [
        "\n",
        "\n",
        "*   Metrics Definition\n",
        "\n"
      ],
      "metadata": {
        "id": "wYrCZe1AuZxm"
      }
    },
    {
      "cell_type": "code",
      "source": [
        "def print_metrics(predictions, model_name):\n",
        "    \"\"\"\n",
        "    Calculate and print the model evaluation metrics.\n",
        "\n",
        "    Parameters:\n",
        "        predictions: DataFrame containing the prediction results\n",
        "        model_name: The name of the model, for display purposes\n",
        "    \"\"\"\n",
        "    # Calculate weighted recall\n",
        "    evaluator_recall = MulticlassClassificationEvaluator(\n",
        "        labelCol=\"label\",\n",
        "        predictionCol=\"prediction\",\n",
        "        metricName=\"weightedRecall\"\n",
        "    )\n",
        "\n",
        "    # Calculate F1 score - using \"f1\" instead of \"weightedF1\"\n",
        "    evaluator_f1 = MulticlassClassificationEvaluator(\n",
        "        labelCol=\"label\",\n",
        "        predictionCol=\"prediction\",\n",
        "        metricName=\"f1\"  # This is the key modification\n",
        "    )\n",
        "\n",
        "    recall = evaluator_recall.evaluate(predictions)\n",
        "    f1 = evaluator_f1.evaluate(predictions)\n",
        "\n",
        "    print(f\"\\n{model_name} Evaluation Metrics:\")\n",
        "    print(f\"Weighted Recall: {recall:.4f}\")\n",
        "    print(f\"F1 Score: {f1:.4f}\")\n",
        "\n",
        "def plot_confusion_matrix(predictions, model_name):\n",
        "    \"\"\"\n",
        "    Plot confusion matrix heatmap using matplotlib.\n",
        "    \"\"\"\n",
        "    # Convert predictions to Pandas DataFrame\n",
        "    conf_matrix = predictions.groupBy(\"label\").pivot(\"prediction\").count().fillna(0)\n",
        "    conf_matrix_pd = conf_matrix.toPandas()\n",
        "\n",
        "    # Set confusion matrix data\n",
        "    matrix_values = conf_matrix_pd.iloc[:, 1:].values\n",
        "\n",
        "    # Create the figure\n",
        "    plt.figure(figsize=(8, 6))\n",
        "    sns.heatmap(matrix_values,\n",
        "                annot=True,\n",
        "                fmt='g',\n",
        "                cmap='Blues',\n",
        "                xticklabels=range(len(matrix_values)),\n",
        "                yticklabels=range(len(matrix_values)))\n",
        "\n",
        "    plt.title(f'{model_name} Confusion Matrix')\n",
        "    plt.xlabel('Predicted')\n",
        "    plt.ylabel('Actual')\n",
        "    plt.show()\n"
      ],
      "metadata": {
        "id": "rMqsjJhlTVDy"
      },
      "execution_count": 12,
      "outputs": []
    },
    {
      "cell_type": "code",
      "source": [
        "unchanged_columns = [\"sex\", \"fasting_blood_sugar\", \"resting_electrocardiographic_results\",\n",
        "                     \"exercise_induced_angina\", \"slope\", \"number_of_major_vessels\", \"thal\"]\n",
        "\n",
        "# Create feature engineering components for the Logistic Regression model\n",
        "lr_encoder_chest = OneHotEncoder(\n",
        "    inputCol=\"chest\",\n",
        "    outputCol=\"chest_onehot_lr\",\n",
        "    dropLast=False\n",
        ")\n",
        "\n",
        "lr_scaler_age = StandardScaler(\n",
        "    inputCol=\"age\",\n",
        "    outputCol=\"scaled_age_lr\",\n",
        "    withStd=True,\n",
        "    withMean=True\n",
        ")\n",
        "\n",
        "lr_scaler_rbp = StandardScaler(\n",
        "    inputCol=\"resting_blood_pressure\",\n",
        "    outputCol=\"scaled_rbp_lr\",\n",
        "    withStd=True,\n",
        "    withMean=True\n",
        ")\n",
        "\n",
        "lr_scaler_schol = StandardScaler(\n",
        "    inputCol=\"serum_cholestoral\",\n",
        "    outputCol=\"scaled_schol_lr\",\n",
        "    withStd=True,\n",
        "    withMean=True\n",
        ")\n",
        "\n",
        "lr_scaler_max_hr = StandardScaler(\n",
        "    inputCol=\"maximum_heart_rate_achieved\",\n",
        "    outputCol=\"scaled_max_hr_lr\",\n",
        "    withStd=True,\n",
        "    withMean=True\n",
        ")\n",
        "\n",
        "lr_scaler_oldpeak = StandardScaler(\n",
        "    inputCol=\"oldpeak\",\n",
        "    outputCol=\"scaled_oldpeak_lr\",\n",
        "    withStd=True,\n",
        "    withMean=True\n",
        ")\n",
        "\n",
        "# Create feature assemblers for both models\n",
        "rf_assembler = VectorAssembler(\n",
        "    inputCols=[\"age\", \"chest\", \"resting_blood_pressure\", \"serum_cholestoral\",\n",
        "               \"maximum_heart_rate_achieved\", \"oldpeak\"] + unchanged_columns,\n",
        "    outputCol=\"features_rf\"\n",
        ")\n",
        "\n",
        "lr_assembler = VectorAssembler(\n",
        "    inputCols=[\"scaled_age_lr\", \"chest_onehot_lr\", \"scaled_rbp_lr\", \"scaled_schol_lr\",\n",
        "               \"scaled_max_hr_lr\", \"scaled_oldpeak_lr\"] + unchanged_columns,\n",
        "    outputCol=\"features_lr\"\n",
        ")\n",
        "\n",
        "# Verify feature engineering components\n",
        "print(\"Feature engineering configuration completed. Features used by Random Forest:\")\n",
        "print(rf_assembler.getInputCols())\n",
        "print(\"\\nFeatures used by Logistic Regression (processed):\")\n",
        "print(lr_assembler.getInputCols())\n"
      ],
      "metadata": {
        "colab": {
          "base_uri": "https://localhost:8080/"
        },
        "id": "QdLFEkBpTaTt",
        "outputId": "ba1bd730-95f8-4cdc-ce68-3e645ff1fb4d"
      },
      "execution_count": 34,
      "outputs": [
        {
          "output_type": "stream",
          "name": "stdout",
          "text": [
            "Feature engineering configuration completed. Features used by Random Forest:\n",
            "['age', 'chest', 'resting_blood_pressure', 'serum_cholestoral', 'maximum_heart_rate_achieved', 'oldpeak', 'sex', 'fasting_blood_sugar', 'resting_electrocardiographic_results', 'exercise_induced_angina', 'slope', 'number_of_major_vessels', 'thal']\n",
            "\n",
            "Features used by Logistic Regression (processed):\n",
            "['scaled_age_lr', 'chest_onehot_lr', 'scaled_rbp_lr', 'scaled_schol_lr', 'scaled_max_hr_lr', 'scaled_oldpeak_lr', 'sex', 'fasting_blood_sugar', 'resting_electrocardiographic_results', 'exercise_induced_angina', 'slope', 'number_of_major_vessels', 'thal']\n"
          ]
        }
      ]
    },
    {
      "cell_type": "markdown",
      "source": [
        "\n",
        "\n",
        "*   Cross-validation Methods\n",
        "\n"
      ],
      "metadata": {
        "id": "sTM1F-lFuh0H"
      }
    },
    {
      "cell_type": "code",
      "source": [
        "from pyspark.ml.classification import RandomForestClassifier\n",
        "from pyspark.ml.evaluation import MulticlassClassificationEvaluator\n",
        "from pyspark.ml.tuning import CrossValidator, ParamGridBuilder\n",
        "from pyspark.ml import Pipeline\n",
        "\n",
        "# Create a Random Forest pipeline\n",
        "rf_pipeline = Pipeline(stages=[\n",
        "    rf_assembler,\n",
        "    RandomForestClassifier(labelCol=\"label\",\n",
        "                           featuresCol=\"features_rf\",\n",
        "                           seed=42)\n",
        "])\n",
        "\n",
        "# Get the Random Forest model from the pipeline\n",
        "rf_model = rf_pipeline.fit(train_df).stages[-1]\n",
        "\n",
        "# Define the parameter grid\n",
        "# Select a smaller range of parameters to balance training time and model performance\n",
        "rf_paramGrid = ParamGridBuilder() \\\n",
        "    .addGrid(rf_model.numTrees, [10, 20]) \\\n",
        "    .addGrid(rf_model.maxDepth, [5, 7]) \\\n",
        "    .build()\n",
        "\n",
        "# Create an evaluator - using weightedRecall as the main optimization metric\n",
        "evaluator_rf = MulticlassClassificationEvaluator(\n",
        "    labelCol=\"label\",\n",
        "    predictionCol=\"prediction\",\n",
        "    metricName=\"weightedRecall\"\n",
        ")\n",
        "\n",
        "# Configure cross-validation\n",
        "rf_cv = CrossValidator(\n",
        "    estimator=rf_pipeline,\n",
        "    estimatorParamMaps=rf_paramGrid,\n",
        "    evaluator=evaluator_rf,\n",
        "    numFolds=3,\n",
        "    seed=42,\n",
        "    parallelism=2  # Enable parallel training for efficiency\n",
        ")\n",
        "\n",
        "print(\"\\nTraining the Random Forest model...\")\n",
        "rf_cvModel = rf_cv.fit(train_df)\n",
        "\n",
        "# Retrieve and display the best parameters\n",
        "best_rf_model = rf_cvModel.bestModel.stages[-1]\n",
        "print(\"\\nBest Random Forest Parameters:\")\n",
        "print(f\"Number of Trees (numTrees): {best_rf_model.getOrDefault(best_rf_model.numTrees)}\")\n",
        "print(f\"Tree Depth (maxDepth): {best_rf_model.getOrDefault(best_rf_model.maxDepth)}\")\n",
        "\n",
        "# print(f\"Number of Trees (numTrees): {best_rf_model.getNumTrees()}\")\n",
        "# print(f\"Tree Depth (maxDepth): {best_rf_model.getMaxDepth()}\")\n",
        "\n",
        "# Make predictions and evaluate on the test set\n",
        "print(\"\\nEvaluating the Random Forest model on the test set...\")\n",
        "rf_predictions = rf_cvModel.transform(test_df)\n",
        "\n",
        "# Evaluate model performance\n",
        "print_metrics(rf_predictions, \"Random Forest\")\n",
        "plot_confusion_matrix(rf_predictions, \"Random Forest\")\n",
        "\n",
        "# Analyze feature importance\n",
        "feature_importance = pd.DataFrame(\n",
        "    best_rf_model.featureImportances.toArray(),\n",
        "    index=rf_assembler.getInputCols(),\n",
        "    columns=['importance']\n",
        ").sort_values('importance', ascending=False)\n",
        "\n",
        "print(\"\\nFeature Importance Ranking (Top 5 Most Important Features):\")\n",
        "print(feature_importance.head())\n"
      ],
      "metadata": {
        "id": "-kLU7I_ZTnpw"
      },
      "execution_count": null,
      "outputs": []
    },
    {
      "cell_type": "markdown",
      "source": [
        "##4.2Logic Regression"
      ],
      "metadata": {
        "id": "ULtndnuUxOww"
      }
    },
    {
      "cell_type": "markdown",
      "source": [
        "The target variable in our dataset is binary and logistic regression is one of the most natural and efficient models for supervised learning in binary classification tasks. Therefore, we first applied logistic regression to model the relationship between the features and the target variable.\n",
        "\n",
        "\n",
        "\n"
      ],
      "metadata": {
        "id": "ZajE33olchEt"
      }
    },
    {
      "cell_type": "markdown",
      "source": [
        "\n",
        "### 4.2.1Feature Enginering\n",
        "\n"
      ],
      "metadata": {
        "id": "Mb6DgBtp3sVA"
      }
    },
    {
      "cell_type": "markdown",
      "source": [
        "We needed to perform feature scaling on some variables since logistic regression is based on gradient optimization, it is sensitive to the\n",
        "range of features."
      ],
      "metadata": {
        "id": "kRKWUmfJcqEH"
      }
    },
    {
      "cell_type": "code",
      "source": [
        "from pyspark.ml.classification import LogisticRegression\n",
        "\n",
        "# Create Logistic Regression complete pipeline\n",
        "lr_pipeline = Pipeline(stages=[\n",
        "    # Feature engineering steps\n",
        "    lr_encoder_chest,        # One-hot encoding for chest variable\n",
        "    lr_scaler_age,           # Standardize age\n",
        "    lr_scaler_rbp,           # Standardize blood pressure\n",
        "    lr_scaler_schol,         # Standardize cholesterol\n",
        "    lr_scaler_max_hr,        # Standardize maximum heart rate\n",
        "    lr_scaler_oldpeak,       # Standardize ST depression\n",
        "    lr_assembler,            # Assemble all features\n",
        "    LogisticRegression(labelCol=\"label\",\n",
        "                       featuresCol=\"features_lr\",\n",
        "                       family=\"binomial\")  # Specify as a binary classification problem\n",
        "])\n",
        "\n",
        "# Define evaluation metrics function\n",
        "def print_metrics(predictions, model_name):\n",
        "    \"\"\"\n",
        "    Calculate and print model evaluation metrics\n",
        "    \"\"\"\n",
        "    evaluator_recall = MulticlassClassificationEvaluator(\n",
        "        labelCol=\"label\",\n",
        "        predictionCol=\"prediction\",\n",
        "        metricName=\"weightedRecall\"\n",
        "    )\n",
        "\n",
        "    evaluator_f1 = MulticlassClassificationEvaluator(\n",
        "        labelCol=\"label\",\n",
        "        predictionCol=\"prediction\",\n",
        "        metricName=\"f1\"  # Corrected evaluation metric name\n",
        "    )\n",
        "\n",
        "    recall = evaluator_recall.evaluate(predictions)\n",
        "    f1 = evaluator_f1.evaluate(predictions)\n",
        "\n",
        "    print(f\"\\n{model_name} Evaluation Metrics:\")\n",
        "    print(f\"Weighted Recall: {recall:.4f}\")\n",
        "    print(f\"F1 Score: {f1:.4f}\")\n",
        "\n",
        "\n",
        "lr_assembler = VectorAssembler(\n",
        "    inputCols=[\"scaled_age_lr\",\n",
        "               \"chest_onehot_lr\",  # Note: This is the one-hot encoded feature\n",
        "               \"scaled_rbp_lr\",\n",
        "               \"scaled_schol_lr\",\n",
        "               \"scaled_max_hr_lr\",\n",
        "               \"scaled_oldpeak_lr\"] + unchanged_columns,\n",
        "    outputCol=\"features_lr\"\n",
        ")\n"
      ],
      "metadata": {
        "id": "XSIN21PGt0Ro"
      },
      "execution_count": 21,
      "outputs": []
    },
    {
      "cell_type": "code",
      "source": [
        "\n",
        "lr_model = lr_pipeline.getStages()[-1]\n",
        "\n",
        "lr_paramGrid = ParamGridBuilder() \\\n",
        "    .addGrid(lr_model.regParam, [0.01, 0.1]) \\\n",
        "    .addGrid(lr_model.elasticNetParam, [0.0, 0.5]) \\\n",
        "    .build()\n",
        "\n",
        "\n",
        "evaluator_lr = MulticlassClassificationEvaluator(\n",
        "    labelCol=\"label\",\n",
        "    predictionCol=\"prediction\",\n",
        "    metricName=\"weightedRecall\"\n",
        ")\n",
        "\n",
        "\n",
        "lr_cv = CrossValidator(\n",
        "    estimator=lr_pipeline,\n",
        "    estimatorParamMaps=lr_paramGrid,\n",
        "    evaluator=evaluator_lr,\n",
        "    numFolds=3,\n",
        "    seed=42\n",
        ")"
      ],
      "metadata": {
        "id": "V6iBbnljVgWR"
      },
      "execution_count": 22,
      "outputs": []
    },
    {
      "cell_type": "markdown",
      "source": [
        "###4.2.2 Model Training, Parameters Tunning and Model Performance"
      ],
      "metadata": {
        "id": "DNSd3cP2jiGL"
      }
    },
    {
      "cell_type": "code",
      "source": [
        "from pyspark.ml import Pipeline\n",
        "from pyspark.ml.classification import LogisticRegression\n",
        "from pyspark.ml.feature import VectorAssembler, StandardScaler\n",
        "from pyspark.ml.evaluation import BinaryClassificationEvaluator, MulticlassClassificationEvaluator\n",
        "from pyspark.ml.tuning import ParamGridBuilder, CrossValidator\n",
        "import matplotlib.pyplot as plt\n",
        "import seaborn as sns\n",
        "import pandas as pd\n",
        "\n",
        "# Define feature columns\n",
        "feature_columns = [\"age\", \"sex\", \"chest\", \"resting_blood_pressure\",\n",
        "                  \"serum_cholestoral\", \"fasting_blood_sugar\",\n",
        "                  \"resting_electrocardiographic_results\",\n",
        "                  \"maximum_heart_rate_achieved\", \"exercise_induced_angina\",\n",
        "                  \"oldpeak\", \"slope\", \"number_of_major_vessels\", \"thal\"]\n",
        "\n",
        "# Feature preprocessing\n",
        "# 1. Feature vector assembly\n",
        "assembler = VectorAssembler(\n",
        "    inputCols=feature_columns,\n",
        "    outputCol=\"assembled_features\"\n",
        ")\n",
        "\n",
        "# 2. Feature standardization\n",
        "scaler = StandardScaler(\n",
        "    inputCol=\"assembled_features\",\n",
        "    outputCol=\"features\",\n",
        "    withStd=True,\n",
        "    withMean=True\n",
        ")\n",
        "\n",
        "# 3. Define logistic regression model\n",
        "lr_model = LogisticRegression(\n",
        "    featuresCol=\"features\",\n",
        "    labelCol=\"label\",\n",
        "    maxIter=10\n",
        ")\n",
        "\n",
        "# 4. Define Pipeline\n",
        "lr_pipeline = Pipeline(stages=[assembler, scaler, lr_model])\n",
        "\n",
        "# 5. Define parameter grid\n",
        "lr_paramGrid = ParamGridBuilder() \\\n",
        "    .addGrid(lr_model.regParam, [0.01, 0.1]) \\\n",
        "    .addGrid(lr_model.elasticNetParam, [0.0, 0.5]) \\\n",
        "    .build()\n",
        "\n",
        "# 6. Define evaluator\n",
        "evaluator_lr = BinaryClassificationEvaluator(\n",
        "    labelCol=\"label\",\n",
        "    rawPredictionCol=\"rawPrediction\",\n",
        "    metricName=\"areaUnderROC\"\n",
        ")\n",
        "\n",
        "# 7. Configure cross validation\n",
        "lr_cv = CrossValidator(\n",
        "    estimator=lr_pipeline,\n",
        "    estimatorParamMaps=lr_paramGrid,\n",
        "    evaluator=evaluator_lr,\n",
        "    numFolds=3,\n",
        "    seed=42\n",
        ")\n",
        "\n",
        "# 8. Prepare dataset\n",
        "processed_df = spark_df.withColumnRenamed(\"class\", \"label\")\n",
        "train_df, test_df = processed_df.randomSplit([0.8, 0.2], seed=42)\n",
        "\n",
        "# 9. Train model\n",
        "print(\"\\nStarting Logistic Regression training...\")\n",
        "print(\"Parameter grid search space (2*2=4 combinations):\")\n",
        "for params in lr_paramGrid:\n",
        "    print(f\"RegParam: {params[lr_model.regParam]}, \" +\n",
        "          f\"ElasticNetParam: {params[lr_model.elasticNetParam]}\")\n",
        "\n",
        "lr_cvModel = lr_cv.fit(train_df)\n",
        "\n",
        "# 10. Get best parameters\n",
        "best_lr_model = lr_cvModel.bestModel.stages[-1]\n",
        "print(\"\\nBest Logistic Regression Parameters:\")\n",
        "print(f\"RegParam: {best_lr_model.getRegParam()}\")\n",
        "print(f\"ElasticNetParam: {best_lr_model.getElasticNetParam()}\")\n",
        "\n",
        "# 11. Model evaluation\n",
        "lr_predictions = lr_cvModel.transform(test_df)\n",
        "\n",
        "# Function to calculate and print multiple metrics\n",
        "def print_metrics(predictions):\n",
        "    # Create evaluators for different metrics\n",
        "    evaluator_recall = MulticlassClassificationEvaluator(\n",
        "        labelCol=\"label\",\n",
        "        predictionCol=\"prediction\",\n",
        "        metricName=\"weightedRecall\"\n",
        "    )\n",
        "    evaluator_f1 = MulticlassClassificationEvaluator(\n",
        "        labelCol=\"label\",\n",
        "        predictionCol=\"prediction\",\n",
        "        metricName=\"f1\"\n",
        "    )\n",
        "\n",
        "    # Calculate metrics\n",
        "    recall = evaluator_recall.evaluate(predictions)\n",
        "    f1 = evaluator_f1.evaluate(predictions)\n",
        "\n",
        "    print(\"\\nTest Set Metrics:\")\n",
        "    print(f\"Recall: {recall:.4f}\")\n",
        "    print(f\"F1 Score: {f1:.4f}\")\n",
        "\n",
        "print_metrics(lr_predictions)\n",
        "\n",
        "# 12. Plot confusion matrix\n",
        "def plot_confusion_matrix(predictions):\n",
        "    # Convert predictions to pandas for visualization\n",
        "    conf_matrix = predictions.groupBy(\"label\", \"prediction\").count().toPandas()\n",
        "\n",
        "    # Pivot the data to create confusion matrix\n",
        "    conf_matrix_pivot = conf_matrix.pivot(index='label',\n",
        "                                        columns='prediction',\n",
        "                                        values='count').fillna(0)\n",
        "\n",
        "    # Plot confusion matrix\n",
        "    plt.figure(figsize=(8, 6))\n",
        "    sns.heatmap(conf_matrix_pivot,\n",
        "                annot=True,\n",
        "                fmt='g',\n",
        "                cmap='Blues',\n",
        "                cbar=True)\n",
        "    plt.title('Confusion Matrix')\n",
        "    plt.xlabel('Predicted Label')\n",
        "    plt.ylabel('True Label')\n",
        "    plt.show()\n",
        "\n",
        "print(\"\\nConfusion Matrix:\")\n",
        "plot_confusion_matrix(lr_predictions)"
      ],
      "metadata": {
        "colab": {
          "base_uri": "https://localhost:8080/",
          "height": 872
        },
        "id": "2Bgq-uFg389A",
        "outputId": "ea73e8f1-85cf-4b24-c0bc-d63bcacb8ff4"
      },
      "execution_count": 24,
      "outputs": [
        {
          "output_type": "stream",
          "name": "stdout",
          "text": [
            "\n",
            "Starting Logistic Regression training...\n",
            "Parameter grid search space (2*2=4 combinations):\n",
            "RegParam: 0.01, ElasticNetParam: 0.0\n",
            "RegParam: 0.01, ElasticNetParam: 0.5\n",
            "RegParam: 0.1, ElasticNetParam: 0.0\n",
            "RegParam: 0.1, ElasticNetParam: 0.5\n",
            "\n",
            "Best Logistic Regression Parameters:\n",
            "RegParam: 0.01\n",
            "ElasticNetParam: 0.0\n",
            "\n",
            "Test Set Metrics:\n",
            "Recall: 0.8775\n",
            "F1 Score: 0.8773\n",
            "\n",
            "Confusion Matrix:\n"
          ]
        },
        {
          "output_type": "display_data",
          "data": {
            "text/plain": [
              "<Figure size 800x600 with 2 Axes>"
            ],
            "image/png": "[encoded data removed]"
          },
          "metadata": {}
        }
      ]
    },
    {
      "cell_type": "markdown",
      "source": [
        "##4.3Conclusion"
      ],
      "metadata": {
        "id": "KO7VieFoAKwJ"
      }
    },
    {
      "cell_type": "markdown",
      "source": [
        "Both supervised learning algorithms performed quite well. However, the Random Forest model slightly outperformed Logistic Regression, with a recall score of 0.8849 compared to 0.8775 for Logistic Regression."
      ],
      "metadata": {
        "id": "sTUG4bR0j_x8"
      }
    },
    {
      "cell_type": "markdown",
      "metadata": {
        "id": "7cGGdaLQjz3k"
      },
      "source": [
        "#5.Unsupervised Learning -- K-means Clustering\n"
      ]
    },
    {
      "cell_type": "code",
      "source": [
        "spark_df_ul = spark_df.select(\"*\")\n",
        "#Combine all feature columns into a single feature vector\n",
        "feature_columns_ul = [col for col in spark_df_ul.columns if col != 'class']\n",
        "assembler_ul = VectorAssembler(inputCols=feature_columns_ul, outputCol=\"features_ul\")\n",
        "df_features_ul = assembler_ul.transform(spark_df_ul)"
      ],
      "metadata": {
        "id": "zT6GB4C5xe8y"
      },
      "execution_count": 25,
      "outputs": []
    },
    {
      "cell_type": "code",
      "source": [
        "train_df_ul, test_df_ul = df_features_ul.randomSplit([0.8, 0.2], seed=1234)\n"
      ],
      "metadata": {
        "id": "-weZ0pjIx18U"
      },
      "execution_count": 26,
      "outputs": []
    },
    {
      "cell_type": "markdown",
      "source": [
        "We first plotted the Elbow Method graph to determine the optimal number of clusters. Based on the Elbow Method, we initially identified that k=3 and k=4 were potential optimal cluster numbers."
      ],
      "metadata": {
        "id": "8ZGrc0InpLAm"
      }
    },
    {
      "cell_type": "code",
      "source": [
        "import matplotlib.pyplot as plt\n",
        "from pyspark.ml.clustering import KMeans\n",
        "from pyspark.ml.evaluation import ClusteringEvaluator\n",
        "\n",
        "\n",
        "k_values = range(2, 11)\n",
        "sse_values = []\n",
        "\n",
        "for k in k_values:\n",
        "    kmeans = KMeans().setK(k).setSeed(1).setFeaturesCol(\"features_ul\")\n",
        "    model = kmeans.fit(train_df_ul)\n",
        "    sse_values.append(model.summary.trainingCost)\n",
        "\n",
        "\n",
        "plt.plot(k_values, sse_values, marker='o')\n",
        "plt.title('Elbow Method - SSE vs k')\n",
        "plt.xlabel('Number of Clusters (k)')\n",
        "plt.ylabel('SSE')\n",
        "plt.show()\n"
      ],
      "metadata": {
        "colab": {
          "base_uri": "https://localhost:8080/",
          "height": 472
        },
        "id": "JwsBjxZh2dKu",
        "outputId": "0be71952-2493-485e-ba6f-b470eb2017ca"
      },
      "execution_count": 29,
      "outputs": [
        {
          "output_type": "display_data",
          "data": {
            "text/plain": [
              "<Figure size 640x480 with 1 Axes>"
            ],
            "image/png": "[encoded data removed]"
          },
          "metadata": {}
        }
      ]
    },
    {
      "cell_type": "markdown",
      "source": [
        "Next, we calculated the silhouette score and used it to identify the best parameter combination. Based on this score, we trained the final model using the optimal parameters.\n"
      ],
      "metadata": {
        "id": "u80VbcXcsBe7"
      }
    },
    {
      "cell_type": "code",
      "source": [
        "from pyspark.ml.evaluation import ClusteringEvaluator\n",
        "from pyspark.ml.clustering import KMeans\n",
        "from pyspark.sql import functions as F\n",
        "\n",
        "# Create an empty list to store results\n",
        "results = []\n",
        "\n",
        "# Iterate over different parameter combinations\n",
        "for k in [3, 4]:  # Test for k=3 and k=4\n",
        "    for init_mode in ['random', 'k-means||']:  # Test for two initialization methods\n",
        "        for max_iter in [20, 30, 40]:  # Test for different maximum iterations\n",
        "            # Configure the KMeans model\n",
        "            kmeans = KMeans()\\\n",
        "                .setK(k)\\\n",
        "                .setSeed(1)\\\n",
        "                .setInitMode(init_mode)\\\n",
        "                .setMaxIter(max_iter)\\\n",
        "                .setFeaturesCol(\"features_ul\")\n",
        "\n",
        "            # Train the model on the training data\n",
        "            model = kmeans.fit(train_df_ul)\n",
        "\n",
        "            # Make predictions on the training data\n",
        "            predictions = model.transform(train_df_ul)\n",
        "\n",
        "            # Calculate SSE (training cost)\n",
        "            sse = model.summary.trainingCost\n",
        "\n",
        "            # Configure the evaluator to compute silhouette score\n",
        "            evaluator = ClusteringEvaluator(\n",
        "                featuresCol=\"features_ul\",\n",
        "                metricName=\"silhouette\",\n",
        "                distanceMeasure=\"squaredEuclidean\"\n",
        "            )\n",
        "\n",
        "            # Calculate silhouette score\n",
        "            silhouette_score = evaluator.evaluate(predictions)\n",
        "\n",
        "            # Add the results to the list\n",
        "            results.append({\n",
        "                \"k\": k,\n",
        "                \"initMode\": init_mode,\n",
        "                \"maxIter\": max_iter,\n",
        "                \"SSE\": sse,\n",
        "                \"SilhouetteScore\": silhouette_score\n",
        "            })\n",
        "\n",
        "# Convert results to a Spark DataFrame\n",
        "results_spark_df = spark.createDataFrame(results)\n",
        "\n",
        "# Display the results\n",
        "print(\"Clustering model parameter evaluation results:\")\n",
        "results_spark_df.orderBy(\"SilhouetteScore\", ascending=False).show()\n",
        "\n",
        "# Find the best parameter combination (based on silhouette score)\n",
        "best_params = results_spark_df.orderBy(\"SilhouetteScore\", ascending=False).first()\n",
        "\n",
        "print(\"\\nBest parameter combination:\")\n",
        "print(f\"K value: {best_params['k']}\")\n",
        "print(f\"Initialization method: {best_params['initMode']}\")\n",
        "print(f\"Maximum iterations: {best_params['maxIter']}\")\n",
        "print(f\"Silhouette score: {best_params['SilhouetteScore']:.4f}\")\n",
        "print(f\"SSE: {best_params['SSE']:.2f}\")\n",
        "\n",
        "# Train the final model using the best parameters\n",
        "final_kmeans = KMeans()\\\n",
        "    .setK(best_params['k'])\\\n",
        "    .setSeed(1)\\\n",
        "    .setInitMode(best_params['initMode'])\\\n",
        "    .setMaxIter(best_params['maxIter'])\\\n",
        "    .setFeaturesCol(\"features_ul\")\n",
        "\n",
        "final_model = final_kmeans.fit(train_df_ul)\n",
        "\n",
        "# Make predictions on the test data\n",
        "final_predictions = final_model.transform(test_df_ul)\n",
        "\n",
        "# Analyze the size of each cluster\n",
        "print(\"\\nSample size distribution of each cluster:\")\n",
        "final_predictions.groupBy(\"prediction\")\\\n",
        "    .agg(F.count(\"*\").alias(\"count\"))\\\n",
        "    .orderBy(\"prediction\")\\\n",
        "    .show()\n"
      ],
      "metadata": {
        "colab": {
          "base_uri": "https://localhost:8080/",
          "height": 532
        },
        "id": "XAT61x7y7pak",
        "outputId": "99c3e8e8-9cc6-4766-aaeb-40e302257057"
      },
      "execution_count": 32,
      "outputs": [
        {
          "output_type": "stream",
          "name": "stderr",
          "text": [
            "ERROR:root:KeyboardInterrupt while sending command.\n",
            "Traceback (most recent call last):\n",
            "  File \"/usr/local/lib/python3.10/dist-packages/py4j/java_gateway.py\", line 1038, in send_command\n",
            "    response = connection.send_command(command)\n",
            "  File \"/usr/local/lib/python3.10/dist-packages/py4j/clientserver.py\", line 511, in send_command\n",
            "    answer = smart_decode(self.stream.readline()[:-1])\n",
            "  File \"/usr/lib/python3.10/socket.py\", line 705, in readinto\n",
            "    return self._sock.recv_into(b)\n",
            "KeyboardInterrupt\n"
          ]
        },
        {
          "output_type": "error",
          "ename": "KeyboardInterrupt",
          "evalue": "",
          "traceback": [
            "\u001b[0;31m---------------------------------------------------------------------------\u001b[0m",
            "\u001b[0;31mKeyboardInterrupt\u001b[0m                         Traceback (most recent call last)",
            "\u001b[0;32m<ipython-input-32-691a946bfd6b>\u001b[0m in \u001b[0;36m<cell line: 9>\u001b[0;34m()\u001b[0m\n\u001b[1;32m     35\u001b[0m \u001b[0;34m\u001b[0m\u001b[0m\n\u001b[1;32m     36\u001b[0m             \u001b[0;31m# Calculate silhouette score\u001b[0m\u001b[0;34m\u001b[0m\u001b[0;34m\u001b[0m\u001b[0m\n\u001b[0;32m---> 37\u001b[0;31m             \u001b[0msilhouette_score\u001b[0m \u001b[0;34m=\u001b[0m \u001b[0mevaluator\u001b[0m\u001b[0;34m.\u001b[0m\u001b[0mevaluate\u001b[0m\u001b[0;34m(\u001b[0m\u001b[0mpredictions\u001b[0m\u001b[0;34m)\u001b[0m\u001b[0;34m\u001b[0m\u001b[0;34m\u001b[0m\u001b[0m\n\u001b[0m\u001b[1;32m     38\u001b[0m \u001b[0;34m\u001b[0m\u001b[0m\n\u001b[1;32m     39\u001b[0m             \u001b[0;31m# Add the results to the list\u001b[0m\u001b[0;34m\u001b[0m\u001b[0;34m\u001b[0m\u001b[0m\n",
            "\u001b[0;32m/usr/local/lib/python3.10/dist-packages/pyspark/ml/evaluation.py\u001b[0m in \u001b[0;36mevaluate\u001b[0;34m(self, dataset, params)\u001b[0m\n\u001b[1;32m    109\u001b[0m                 \u001b[0;32mreturn\u001b[0m \u001b[0mself\u001b[0m\u001b[0;34m.\u001b[0m\u001b[0mcopy\u001b[0m\u001b[0;34m(\u001b[0m\u001b[0mparams\u001b[0m\u001b[0;34m)\u001b[0m\u001b[0;34m.\u001b[0m\u001b[0m_evaluate\u001b[0m\u001b[0;34m(\u001b[0m\u001b[0mdataset\u001b[0m\u001b[0;34m)\u001b[0m\u001b[0;34m\u001b[0m\u001b[0;34m\u001b[0m\u001b[0m\n\u001b[1;32m    110\u001b[0m             \u001b[0;32melse\u001b[0m\u001b[0;34m:\u001b[0m\u001b[0;34m\u001b[0m\u001b[0;34m\u001b[0m\u001b[0m\n\u001b[0;32m--> 111\u001b[0;31m                 \u001b[0;32mreturn\u001b[0m \u001b[0mself\u001b[0m\u001b[0;34m.\u001b[0m\u001b[0m_evaluate\u001b[0m\u001b[0;34m(\u001b[0m\u001b[0mdataset\u001b[0m\u001b[0;34m)\u001b[0m\u001b[0;34m\u001b[0m\u001b[0;34m\u001b[0m\u001b[0m\n\u001b[0m\u001b[1;32m    112\u001b[0m         \u001b[0;32melse\u001b[0m\u001b[0;34m:\u001b[0m\u001b[0;34m\u001b[0m\u001b[0;34m\u001b[0m\u001b[0m\n\u001b[1;32m    113\u001b[0m             \u001b[0;32mraise\u001b[0m \u001b[0mTypeError\u001b[0m\u001b[0;34m(\u001b[0m\u001b[0;34m\"Params must be a param map but got %s.\"\u001b[0m \u001b[0;34m%\u001b[0m \u001b[0mtype\u001b[0m\u001b[0;34m(\u001b[0m\u001b[0mparams\u001b[0m\u001b[0;34m)\u001b[0m\u001b[0;34m)\u001b[0m\u001b[0;34m\u001b[0m\u001b[0;34m\u001b[0m\u001b[0m\n",
            "\u001b[0;32m/usr/local/lib/python3.10/dist-packages/pyspark/ml/evaluation.py\u001b[0m in \u001b[0;36m_evaluate\u001b[0;34m(self, dataset)\u001b[0m\n\u001b[1;32m    146\u001b[0m         \u001b[0mself\u001b[0m\u001b[0;34m.\u001b[0m\u001b[0m_transfer_params_to_java\u001b[0m\u001b[0;34m(\u001b[0m\u001b[0;34m)\u001b[0m\u001b[0;34m\u001b[0m\u001b[0;34m\u001b[0m\u001b[0m\n\u001b[1;32m    147\u001b[0m         \u001b[0;32massert\u001b[0m \u001b[0mself\u001b[0m\u001b[0;34m.\u001b[0m\u001b[0m_java_obj\u001b[0m \u001b[0;32mis\u001b[0m \u001b[0;32mnot\u001b[0m \u001b[0;32mNone\u001b[0m\u001b[0;34m\u001b[0m\u001b[0;34m\u001b[0m\u001b[0m\n\u001b[0;32m--> 148\u001b[0;31m         \u001b[0;32mreturn\u001b[0m \u001b[0mself\u001b[0m\u001b[0;34m.\u001b[0m\u001b[0m_java_obj\u001b[0m\u001b[0;34m.\u001b[0m\u001b[0mevaluate\u001b[0m\u001b[0;34m(\u001b[0m\u001b[0mdataset\u001b[0m\u001b[0;34m.\u001b[0m\u001b[0m_jdf\u001b[0m\u001b[0;34m)\u001b[0m\u001b[0;34m\u001b[0m\u001b[0;34m\u001b[0m\u001b[0m\n\u001b[0m\u001b[1;32m    149\u001b[0m \u001b[0;34m\u001b[0m\u001b[0m\n\u001b[1;32m    150\u001b[0m     \u001b[0;32mdef\u001b[0m \u001b[0misLargerBetter\u001b[0m\u001b[0;34m(\u001b[0m\u001b[0mself\u001b[0m\u001b[0;34m)\u001b[0m \u001b[0;34m->\u001b[0m \u001b[0mbool\u001b[0m\u001b[0;34m:\u001b[0m\u001b[0;34m\u001b[0m\u001b[0;34m\u001b[0m\u001b[0m\n",
            "\u001b[0;32m/usr/local/lib/python3.10/dist-packages/py4j/java_gateway.py\u001b[0m in \u001b[0;36m__call__\u001b[0;34m(self, *args)\u001b[0m\n\u001b[1;32m   1319\u001b[0m             \u001b[0mproto\u001b[0m\u001b[0;34m.\u001b[0m\u001b[0mEND_COMMAND_PART\u001b[0m\u001b[0;34m\u001b[0m\u001b[0;34m\u001b[0m\u001b[0m\n\u001b[1;32m   1320\u001b[0m \u001b[0;34m\u001b[0m\u001b[0m\n\u001b[0;32m-> 1321\u001b[0;31m         \u001b[0manswer\u001b[0m \u001b[0;34m=\u001b[0m \u001b[0mself\u001b[0m\u001b[0;34m.\u001b[0m\u001b[0mgateway_client\u001b[0m\u001b[0;34m.\u001b[0m\u001b[0msend_command\u001b[0m\u001b[0;34m(\u001b[0m\u001b[0mcommand\u001b[0m\u001b[0;34m)\u001b[0m\u001b[0;34m\u001b[0m\u001b[0;34m\u001b[0m\u001b[0m\n\u001b[0m\u001b[1;32m   1322\u001b[0m         return_value = get_return_value(\n\u001b[1;32m   1323\u001b[0m             answer, self.gateway_client, self.target_id, self.name)\n",
            "\u001b[0;32m/usr/local/lib/python3.10/dist-packages/py4j/java_gateway.py\u001b[0m in \u001b[0;36msend_command\u001b[0;34m(self, command, retry, binary)\u001b[0m\n\u001b[1;32m   1036\u001b[0m         \u001b[0mconnection\u001b[0m \u001b[0;34m=\u001b[0m \u001b[0mself\u001b[0m\u001b[0;34m.\u001b[0m\u001b[0m_get_connection\u001b[0m\u001b[0;34m(\u001b[0m\u001b[0;34m)\u001b[0m\u001b[0;34m\u001b[0m\u001b[0;34m\u001b[0m\u001b[0m\n\u001b[1;32m   1037\u001b[0m         \u001b[0;32mtry\u001b[0m\u001b[0;34m:\u001b[0m\u001b[0;34m\u001b[0m\u001b[0;34m\u001b[0m\u001b[0m\n\u001b[0;32m-> 1038\u001b[0;31m             \u001b[0mresponse\u001b[0m \u001b[0;34m=\u001b[0m \u001b[0mconnection\u001b[0m\u001b[0;34m.\u001b[0m\u001b[0msend_command\u001b[0m\u001b[0;34m(\u001b[0m\u001b[0mcommand\u001b[0m\u001b[0;34m)\u001b[0m\u001b[0;34m\u001b[0m\u001b[0;34m\u001b[0m\u001b[0m\n\u001b[0m\u001b[1;32m   1039\u001b[0m             \u001b[0;32mif\u001b[0m \u001b[0mbinary\u001b[0m\u001b[0;34m:\u001b[0m\u001b[0;34m\u001b[0m\u001b[0;34m\u001b[0m\u001b[0m\n\u001b[1;32m   1040\u001b[0m                 \u001b[0;32mreturn\u001b[0m \u001b[0mresponse\u001b[0m\u001b[0;34m,\u001b[0m \u001b[0mself\u001b[0m\u001b[0;34m.\u001b[0m\u001b[0m_create_connection_guard\u001b[0m\u001b[0;34m(\u001b[0m\u001b[0mconnection\u001b[0m\u001b[0;34m)\u001b[0m\u001b[0;34m\u001b[0m\u001b[0;34m\u001b[0m\u001b[0m\n",
            "\u001b[0;32m/usr/local/lib/python3.10/dist-packages/py4j/clientserver.py\u001b[0m in \u001b[0;36msend_command\u001b[0;34m(self, command)\u001b[0m\n\u001b[1;32m    509\u001b[0m         \u001b[0;32mtry\u001b[0m\u001b[0;34m:\u001b[0m\u001b[0;34m\u001b[0m\u001b[0;34m\u001b[0m\u001b[0m\n\u001b[1;32m    510\u001b[0m             \u001b[0;32mwhile\u001b[0m \u001b[0;32mTrue\u001b[0m\u001b[0;34m:\u001b[0m\u001b[0;34m\u001b[0m\u001b[0;34m\u001b[0m\u001b[0m\n\u001b[0;32m--> 511\u001b[0;31m                 \u001b[0manswer\u001b[0m \u001b[0;34m=\u001b[0m \u001b[0msmart_decode\u001b[0m\u001b[0;34m(\u001b[0m\u001b[0mself\u001b[0m\u001b[0;34m.\u001b[0m\u001b[0mstream\u001b[0m\u001b[0;34m.\u001b[0m\u001b[0mreadline\u001b[0m\u001b[0;34m(\u001b[0m\u001b[0;34m)\u001b[0m\u001b[0;34m[\u001b[0m\u001b[0;34m:\u001b[0m\u001b[0;34m-\u001b[0m\u001b[0;36m1\u001b[0m\u001b[0;34m]\u001b[0m\u001b[0;34m)\u001b[0m\u001b[0;34m\u001b[0m\u001b[0;34m\u001b[0m\u001b[0m\n\u001b[0m\u001b[1;32m    512\u001b[0m                 \u001b[0mlogger\u001b[0m\u001b[0;34m.\u001b[0m\u001b[0mdebug\u001b[0m\u001b[0;34m(\u001b[0m\u001b[0;34m\"Answer received: {0}\"\u001b[0m\u001b[0;34m.\u001b[0m\u001b[0mformat\u001b[0m\u001b[0;34m(\u001b[0m\u001b[0manswer\u001b[0m\u001b[0;34m)\u001b[0m\u001b[0;34m)\u001b[0m\u001b[0;34m\u001b[0m\u001b[0;34m\u001b[0m\u001b[0m\n\u001b[1;32m    513\u001b[0m                 \u001b[0;31m# Happens when a the other end is dead. There might be an empty\u001b[0m\u001b[0;34m\u001b[0m\u001b[0;34m\u001b[0m\u001b[0m\n",
            "\u001b[0;32m/usr/lib/python3.10/socket.py\u001b[0m in \u001b[0;36mreadinto\u001b[0;34m(self, b)\u001b[0m\n\u001b[1;32m    703\u001b[0m         \u001b[0;32mwhile\u001b[0m \u001b[0;32mTrue\u001b[0m\u001b[0;34m:\u001b[0m\u001b[0;34m\u001b[0m\u001b[0;34m\u001b[0m\u001b[0m\n\u001b[1;32m    704\u001b[0m             \u001b[0;32mtry\u001b[0m\u001b[0;34m:\u001b[0m\u001b[0;34m\u001b[0m\u001b[0;34m\u001b[0m\u001b[0m\n\u001b[0;32m--> 705\u001b[0;31m                 \u001b[0;32mreturn\u001b[0m \u001b[0mself\u001b[0m\u001b[0;34m.\u001b[0m\u001b[0m_sock\u001b[0m\u001b[0;34m.\u001b[0m\u001b[0mrecv_into\u001b[0m\u001b[0;34m(\u001b[0m\u001b[0mb\u001b[0m\u001b[0;34m)\u001b[0m\u001b[0;34m\u001b[0m\u001b[0;34m\u001b[0m\u001b[0m\n\u001b[0m\u001b[1;32m    706\u001b[0m             \u001b[0;32mexcept\u001b[0m \u001b[0mtimeout\u001b[0m\u001b[0;34m:\u001b[0m\u001b[0;34m\u001b[0m\u001b[0;34m\u001b[0m\u001b[0m\n\u001b[1;32m    707\u001b[0m                 \u001b[0mself\u001b[0m\u001b[0;34m.\u001b[0m\u001b[0m_timeout_occurred\u001b[0m \u001b[0;34m=\u001b[0m \u001b[0;32mTrue\u001b[0m\u001b[0;34m\u001b[0m\u001b[0;34m\u001b[0m\u001b[0m\n",
            "\u001b[0;31mKeyboardInterrupt\u001b[0m: "
          ]
        }
      ]
    },
    {
      "cell_type": "code",
      "source": [
        "\n",
        "\n",
        "kmeans = KMeans().setK(3).setSeed(1).setFeaturesCol(\"features_ul\")\n",
        "\n",
        "\n",
        "model = kmeans.fit(train_df_ul)\n",
        "\n",
        "predictions = model.transform(test_df_ul)\n",
        "\n",
        "\n",
        "predictions.select(\"features_ul\", \"prediction\").show()\n"
      ],
      "metadata": {
        "colab": {
          "base_uri": "https://localhost:8080/"
        },
        "id": "9f0co2j6zIRx",
        "outputId": "b2e11bcc-e08b-48f7-ae77-6b964e72500c"
      },
      "execution_count": null,
      "outputs": [
        {
          "output_type": "stream",
          "name": "stdout",
          "text": [
            "+--------------------+----------+\n",
            "|         features_ul|prediction|\n",
            "+--------------------+----------+\n",
            "|[27.809395,1.0,1....|         0|\n",
            "|[28.772778,1.0,4....|         0|\n",
            "|[30.066129,1.0,1....|         2|\n",
            "|(13,[0,2,3,4,7,10...|         1|\n",
            "|[30.191471,0.0,3....|         0|\n",
            "|[30.232364,0.0,3....|         1|\n",
            "|[30.331581,1.0,3....|         0|\n",
            "|[30.513774,1.0,3....|         2|\n",
            "|[30.683525,1.0,4....|         1|\n",
            "|[30.779231,0.0,0....|         1|\n",
            "|[30.913074,1.0,3....|         0|\n",
            "|[31.010993,1.0,1....|         0|\n",
            "|[31.019484,1.0,3....|         0|\n",
            "|[31.033035,1.0,4....|         0|\n",
            "|[31.086086,1.0,4....|         1|\n",
            "|[31.14137,0.0,4.0...|         0|\n",
            "|[31.243141,1.0,3....|         1|\n",
            "|[31.251251,1.0,4....|         1|\n",
            "|[31.369771,1.0,3....|         0|\n",
            "|[31.550016,1.0,0....|         1|\n",
            "+--------------------+----------+\n",
            "only showing top 20 rows\n",
            "\n"
          ]
        }
      ]
    }
  ],
  "metadata": {
    "colab": {
      "provenance": []
    },
    "kernelspec": {
      "display_name": "Python 3",
      "name": "python3"
    },
    "language_info": {
      "name": "python"
    }
  },
  "nbformat": 4,
  "nbformat_minor": 0
}